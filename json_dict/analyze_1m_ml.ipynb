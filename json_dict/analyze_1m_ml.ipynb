{
 "cells": [
  {
   "cell_type": "code",
   "execution_count": 18,
   "metadata": {},
   "outputs": [],
   "source": [
    "import pandas as pd\n",
    "import feather\n",
    "import datetime\n",
    "\n",
    "# Define the file path\n",
    "eth_usdt_1m_file = '/allah/freqtrade/user_data/data/binance/futures/ETH_USDT_USDT-1m-futures.feather'\n",
    "\n",
    "# Read the DataFrame from the feather file\n",
    "eth_usdt_1m = feather.read_dataframe(eth_usdt_1m_file)\n",
    "eth_usdt_1m_utc8 = eth_usdt_1m.copy()\n",
    "# Add 8 hours to the 'date' column and simplify for readability\n",
    "eth_usdt_1m_utc8['date'] = pd.to_datetime(eth_usdt_1m_utc8['date']) + pd.DateOffset(hours=8)\n",
    "\n",
    "# Format the 'date' column as a string in the desired format\n",
    "eth_usdt_1m_utc8['date'] = eth_usdt_1m_utc8['date'].dt.strftime('%Y-%m-%d %H:%M')\n"
   ]
  },
  {
   "cell_type": "code",
   "execution_count": 22,
   "metadata": {},
   "outputs": [
    {
     "data": {
      "text/plain": [
       "0          2019-11-27 15:45\n",
       "1          2019-11-27 15:46\n",
       "2          2019-11-27 15:47\n",
       "3          2019-11-27 15:48\n",
       "4          2019-11-27 15:49\n",
       "                 ...       \n",
       "2026270    2023-10-04 18:55\n",
       "2026271    2023-10-04 18:56\n",
       "2026272    2023-10-04 18:57\n",
       "2026273    2023-10-04 18:58\n",
       "2026274    2023-10-04 18:59\n",
       "Name: date, Length: 2026275, dtype: object"
      ]
     },
     "execution_count": 22,
     "metadata": {},
     "output_type": "execute_result"
    }
   ],
   "source": [
    "eth_usdt_1m_utc8.date"
   ]
  }
 ],
 "metadata": {
  "kernelspec": {
   "display_name": ".venv",
   "language": "python",
   "name": "python3"
  },
  "language_info": {
   "codemirror_mode": {
    "name": "ipython",
    "version": 3
   },
   "file_extension": ".py",
   "mimetype": "text/x-python",
   "name": "python",
   "nbconvert_exporter": "python",
   "pygments_lexer": "ipython3",
   "version": "3.11.2"
  },
  "orig_nbformat": 4
 },
 "nbformat": 4,
 "nbformat_minor": 2
}
