{
 "cells": [
  {
   "cell_type": "code",
   "execution_count": 3,
   "metadata": {},
   "outputs": [
    {
     "name": "stdout",
     "output_type": "stream",
     "text": [
      "Error: 400 - {\"code\":-1100,\"msg\":\"Illegal characters found in parameter 'symbol'; legal range is '^[A-Z0-9-_.]{1,20}$'.\"}\n"
     ]
    }
   ],
   "source": [
    "import requests\n",
    "# from binance_api import api_key, api_secret\n",
    "\n",
    "# Define the trading pair and other parameters\n",
    "symbol = 'ETHUSDT'\n",
    "interval = '1s'  # 1-second interval\n",
    "limit = 1000  # The number of data points to retrieve (maximum is 1000)\n",
    "\n",
    "# Set up the request headers\n",
    "headers = {\n",
    "    'X-MBX-APIKEY': api_key\n",
    "}\n",
    "\n",
    "# Make the API request\n",
    "url = 'https://api.binance.com/api/v3/klines'\n",
    "params = {\n",
    "    'symbol': symbol,\n",
    "    'interval': interval,\n",
    "    'limit': limit\n",
    "}\n",
    "response = requests.get(url, params=params, headers=headers)\n",
    "\n",
    "# Process the response\n",
    "if response.status_code == 200:\n",
    "    data = response.json()\n",
    "    for kline in data:\n",
    "        timestamp, open, high, low, close, volume = kline[:6]\n",
    "        print(f\"Timestamp: {timestamp}, Open: {open}, High: {high}, Low: {low}, Close: {close}, Volume: {volume}\")\n",
    "else:\n",
    "    print(f'Error: {response.status_code} - {response.text}')\n"
   ]
  }
 ],
 "metadata": {
  "kernelspec": {
   "display_name": ".venv",
   "language": "python",
   "name": "python3"
  },
  "language_info": {
   "codemirror_mode": {
    "name": "ipython",
    "version": 3
   },
   "file_extension": ".py",
   "mimetype": "text/x-python",
   "name": "python",
   "nbconvert_exporter": "python",
   "pygments_lexer": "ipython3",
   "version": "3.11.2"
  }
 },
 "nbformat": 4,
 "nbformat_minor": 2
}
