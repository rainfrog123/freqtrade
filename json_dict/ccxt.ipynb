{
 "cells": [
  {
   "cell_type": "code",
   "execution_count": 3,
   "metadata": {},
   "outputs": [
    {
     "name": "stdout",
     "output_type": "stream",
     "text": [
      "New timestamp: 2023-10-07 17:22:00\n",
      "Current volume: 18.904, Test value: 60.367\n",
      "Time: 2023-10-07 17:22:00, Open: 1639.63, High: 1640.01, Low: 1639.57, Close: 1639.71, Volume: 18.904, Last 5 volume sum: 236.80\n",
      "Current volume: 32.191, Test value: 60.367\n",
      "Time: 2023-10-07 17:22:00, Open: 1639.63, High: 1640.01, Low: 1639.57, Close: 1639.71, Volume: 32.191, Last 5 volume sum: 236.80\n",
      "Current volume: 46.671, Test value: 60.367\n",
      "Time: 2023-10-07 17:22:00, Open: 1639.63, High: 1640.23, Low: 1639.57, Close: 1640.23, Volume: 46.671, Last 5 volume sum: 236.80\n",
      "Error in closing position: binance amount of ETH/USDT:USDT must be greater than minimum amount precision of 3\n"
     ]
    },
    {
     "ename": "KeyboardInterrupt",
     "evalue": "",
     "output_type": "error",
     "traceback": [
      "\u001b[0;31m---------------------------------------------------------------------------\u001b[0m",
      "\u001b[0;31mKeyboardInterrupt\u001b[0m                         Traceback (most recent call last)",
      "\u001b[1;32m/allah/freqtrade/json_dict/ccxt.ipynb Cell 2\u001b[0m line \u001b[0;36m1\n\u001b[1;32m    <a href='vscode-notebook-cell://ssh-remote%2B7b22686f73744e616d65223a224c696e6f64655f73696e6761706f7265227d/allah/freqtrade/json_dict/ccxt.ipynb#W4sdnNjb2RlLXJlbW90ZQ%3D%3D?line=112'>113</a>\u001b[0m api_key \u001b[39m=\u001b[39m api_key\n\u001b[1;32m    <a href='vscode-notebook-cell://ssh-remote%2B7b22686f73744e616d65223a224c696e6f64655f73696e6761706f7265227d/allah/freqtrade/json_dict/ccxt.ipynb#W4sdnNjb2RlLXJlbW90ZQ%3D%3D?line=113'>114</a>\u001b[0m api_secret \u001b[39m=\u001b[39m api_secret\n\u001b[0;32m--> <a href='vscode-notebook-cell://ssh-remote%2B7b22686f73744e616d65223a224c696e6f64655f73696e6761706f7265227d/allah/freqtrade/json_dict/ccxt.ipynb#W4sdnNjb2RlLXJlbW90ZQ%3D%3D?line=115'>116</a>\u001b[0m asyncio\u001b[39m.\u001b[39;49mrun(main())\n",
      "File \u001b[0;32m/allah/freqtrade/.venv/lib/python3.11/site-packages/nest_asyncio.py:31\u001b[0m, in \u001b[0;36m_patch_asyncio.<locals>.run\u001b[0;34m(main, debug)\u001b[0m\n\u001b[1;32m     29\u001b[0m task \u001b[39m=\u001b[39m asyncio\u001b[39m.\u001b[39mensure_future(main)\n\u001b[1;32m     30\u001b[0m \u001b[39mtry\u001b[39;00m:\n\u001b[0;32m---> 31\u001b[0m     \u001b[39mreturn\u001b[39;00m loop\u001b[39m.\u001b[39;49mrun_until_complete(task)\n\u001b[1;32m     32\u001b[0m \u001b[39mfinally\u001b[39;00m:\n\u001b[1;32m     33\u001b[0m     \u001b[39mif\u001b[39;00m \u001b[39mnot\u001b[39;00m task\u001b[39m.\u001b[39mdone():\n",
      "File \u001b[0;32m/allah/freqtrade/.venv/lib/python3.11/site-packages/nest_asyncio.py:93\u001b[0m, in \u001b[0;36m_patch_loop.<locals>.run_until_complete\u001b[0;34m(self, future)\u001b[0m\n\u001b[1;32m     91\u001b[0m     f\u001b[39m.\u001b[39m_log_destroy_pending \u001b[39m=\u001b[39m \u001b[39mFalse\u001b[39;00m\n\u001b[1;32m     92\u001b[0m \u001b[39mwhile\u001b[39;00m \u001b[39mnot\u001b[39;00m f\u001b[39m.\u001b[39mdone():\n\u001b[0;32m---> 93\u001b[0m     \u001b[39mself\u001b[39;49m\u001b[39m.\u001b[39;49m_run_once()\n\u001b[1;32m     94\u001b[0m     \u001b[39mif\u001b[39;00m \u001b[39mself\u001b[39m\u001b[39m.\u001b[39m_stopping:\n\u001b[1;32m     95\u001b[0m         \u001b[39mbreak\u001b[39;00m\n",
      "File \u001b[0;32m/allah/freqtrade/.venv/lib/python3.11/site-packages/nest_asyncio.py:116\u001b[0m, in \u001b[0;36m_patch_loop.<locals>._run_once\u001b[0;34m(self)\u001b[0m\n\u001b[1;32m    109\u001b[0m     heappop(scheduled)\n\u001b[1;32m    111\u001b[0m timeout \u001b[39m=\u001b[39m (\n\u001b[1;32m    112\u001b[0m     \u001b[39m0\u001b[39m \u001b[39mif\u001b[39;00m ready \u001b[39mor\u001b[39;00m \u001b[39mself\u001b[39m\u001b[39m.\u001b[39m_stopping\n\u001b[1;32m    113\u001b[0m     \u001b[39melse\u001b[39;00m \u001b[39mmin\u001b[39m(\u001b[39mmax\u001b[39m(\n\u001b[1;32m    114\u001b[0m         scheduled[\u001b[39m0\u001b[39m]\u001b[39m.\u001b[39m_when \u001b[39m-\u001b[39m \u001b[39mself\u001b[39m\u001b[39m.\u001b[39mtime(), \u001b[39m0\u001b[39m), \u001b[39m86400\u001b[39m) \u001b[39mif\u001b[39;00m scheduled\n\u001b[1;32m    115\u001b[0m     \u001b[39melse\u001b[39;00m \u001b[39mNone\u001b[39;00m)\n\u001b[0;32m--> 116\u001b[0m event_list \u001b[39m=\u001b[39m \u001b[39mself\u001b[39;49m\u001b[39m.\u001b[39;49m_selector\u001b[39m.\u001b[39;49mselect(timeout)\n\u001b[1;32m    117\u001b[0m \u001b[39mself\u001b[39m\u001b[39m.\u001b[39m_process_events(event_list)\n\u001b[1;32m    119\u001b[0m end_time \u001b[39m=\u001b[39m \u001b[39mself\u001b[39m\u001b[39m.\u001b[39mtime() \u001b[39m+\u001b[39m \u001b[39mself\u001b[39m\u001b[39m.\u001b[39m_clock_resolution\n",
      "File \u001b[0;32m/usr/lib/python3.11/selectors.py:468\u001b[0m, in \u001b[0;36mEpollSelector.select\u001b[0;34m(self, timeout)\u001b[0m\n\u001b[1;32m    466\u001b[0m ready \u001b[39m=\u001b[39m []\n\u001b[1;32m    467\u001b[0m \u001b[39mtry\u001b[39;00m:\n\u001b[0;32m--> 468\u001b[0m     fd_event_list \u001b[39m=\u001b[39m \u001b[39mself\u001b[39m\u001b[39m.\u001b[39m_selector\u001b[39m.\u001b[39mpoll(timeout, max_ev)\n\u001b[1;32m    469\u001b[0m \u001b[39mexcept\u001b[39;00m \u001b[39mInterruptedError\u001b[39;00m:\n\u001b[1;32m    470\u001b[0m     \u001b[39mreturn\u001b[39;00m ready\n",
      "\u001b[0;31mKeyboardInterrupt\u001b[0m: "
     ]
    }
   ],
   "source": [
    "import ccxt.pro as ccxtpro\n",
    "import asyncio\n",
    "import nest_asyncio\n",
    "import pytz\n",
    "from datetime import datetime, timedelta\n",
    "import pandas as pd\n",
    "from ccxt_lab import whale_1, api_key, api_secret\n",
    "\n",
    "# Use nest_asyncio to allow async/await code to run in Jupyter Notebook\n",
    "nest_asyncio.apply()\n",
    "\n",
    "async def fetch_ohlcv_dataframe(exchange, symbol):\n",
    "    try:\n",
    "        current_time_utc = datetime.utcnow() - timedelta(hours=1)\n",
    "        start_time_str = current_time_utc.strftime('%Y-%m-%dT%H:%M:%SZ')\n",
    "        start_timestamp = exchange.parse8601(start_time_str)\n",
    "\n",
    "        ohlcv = await exchange.fetch_ohlcv(symbol, timeframe='1m', since=start_timestamp, limit=None)\n",
    "\n",
    "        df = pd.DataFrame(ohlcv, columns=['Timestamp', 'Open', 'High', 'Low', 'Close', 'Volume'])\n",
    "        df['Timestamp'] = pd.to_datetime(df['Timestamp'], unit='ms')\n",
    "        df['Timestamp'] = df['Timestamp'] + timedelta(hours=8)\n",
    "        df['Last5VolumeSum'] = df['Volume'].rolling(window=6, min_periods=1).sum() - df['Volume']\n",
    "\n",
    "        return df\n",
    "\n",
    "    except Exception as e:\n",
    "        print(f\"An error occurred: {e}\")\n",
    "        return None\n",
    "\n",
    "async def watch_ohlcv_and_print(exchange, symbol, whale):\n",
    "    utc_plus_8 = pytz.timezone('Asia/Shanghai')\n",
    "    previous_timestamp = None\n",
    "    entry_time_list = []\n",
    "\n",
    "    try:\n",
    "        while True:\n",
    "            ohlcv = await exchange.watch_ohlcv(symbol, timeframe='1m')\n",
    "            timestamp_utc = datetime.fromtimestamp(ohlcv[-1][0] / 1000, tz=pytz.utc)\n",
    "            timestamp_utc8 = timestamp_utc.astimezone(utc_plus_8)\n",
    "            current_timestamp_str = timestamp_utc8.strftime('%Y-%m-%d %H:%M:%S')\n",
    "            current_volume = ohlcv[-1][5]\n",
    "\n",
    "            if current_timestamp_str != previous_timestamp:\n",
    "                print(f\"New timestamp: {current_timestamp_str}\")\n",
    "                df = await fetch_ohlcv_dataframe(exchange, symbol)\n",
    "                previous_timestamp = current_timestamp_str\n",
    "\n",
    "            print(f\"Current volume: {ohlcv[-1][5]}, Test value: {df['Volume'].iloc[-2]}\")\n",
    "\n",
    "            if df is not None and current_volume > df['Volume'].iloc[-2]:\n",
    "                if not whale.is_position_open() and current_timestamp_str not in entry_time_list:\n",
    "                    try:\n",
    "                        direction = 'buy' if ohlcv[-1][4] > ohlcv[-1][1] else 'sell'\n",
    "                        place_order = whale.place_first_market_order(direction)\n",
    "                        print(f\"Place order: {place_order}\")\n",
    "                        entry_time_list.append(current_timestamp_str)\n",
    "                        whale.place_second_take_profit_and_stop_loss_orders()\n",
    "\n",
    "                    except Exception as e:\n",
    "                        print(f\"An error occurred: {e}\")\n",
    "\n",
    "            print(f\"Time: {current_timestamp_str}, Open: {ohlcv[-1][1]}, High: {ohlcv[-1][2]}, Low: {ohlcv[-1][3]}, Close: {ohlcv[-1][4]}, Volume: {ohlcv[-1][5]}, Last 5 volume sum: {df['Last5VolumeSum'].iloc[-1]:.2f}\")\n",
    "\n",
    "    except KeyboardInterrupt:\n",
    "        pass\n",
    "    finally:\n",
    "        await exchange.close()\n",
    "\n",
    "async def constantly_watch_position_and_orders(exchange, symbol, whale):\n",
    "    prev_position_exists = False\n",
    "\n",
    "    try:\n",
    "        while True:\n",
    "            positions = await exchange.fetch_positions([symbol])\n",
    "            current_position_Amt_abs = abs(float(positions[0]['info']['positionAmt']))\n",
    "            position_exists = (current_position_Amt_abs > 0 or current_position_Amt_abs < 0)\n",
    "\n",
    "            if position_exists and not prev_position_exists:\n",
    "                print(\"Position exists from None\")\n",
    "            \n",
    "            if not position_exists and prev_position_exists:\n",
    "                print(\"No position anymore\")\n",
    "                whale.close_position_and_orders()\n",
    "\n",
    "            prev_position_exists = position_exists\n",
    "\n",
    "    except KeyboardInterrupt:\n",
    "        pass\n",
    "    finally:\n",
    "        whale_1.close_position_and_orders()\n",
    "        await exchange.close()\n",
    "\n",
    "async def main():\n",
    "    trading_symbol = 'ETH/USDT'\n",
    "\n",
    "    exchange = ccxtpro.binance({\n",
    "        'options': {\n",
    "            'defaultType': 'future',\n",
    "            'newUpdates': True\n",
    "        },\n",
    "        'api_key': api_key,\n",
    "        'secret': api_secret\n",
    "    })\n",
    "    \n",
    "    exchange.set_sandbox_mode(True)\n",
    "    tasks = [\n",
    "        watch_ohlcv_and_print(exchange, trading_symbol, whale_1),\n",
    "        constantly_watch_position_and_orders(exchange, trading_symbol, whale_1)\n",
    "    ]\n",
    "    await asyncio.gather(*tasks)\n",
    "\n",
    "api_key = api_key\n",
    "api_secret = api_secret\n",
    "\n",
    "asyncio.run(main())\n"
   ]
  },
  {
   "cell_type": "code",
   "execution_count": 14,
   "metadata": {},
   "outputs": [
    {
     "name": "stdout",
     "output_type": "stream",
     "text": [
      "An error occurred: binance trailing_stop is not a valid order type for the ETH/USDT market\n"
     ]
    },
    {
     "ename": "UnboundLocalError",
     "evalue": "cannot access local variable 'order' where it is not associated with a value",
     "output_type": "error",
     "traceback": [
      "\u001b[0;31m---------------------------------------------------------------------------\u001b[0m",
      "\u001b[0;31mUnboundLocalError\u001b[0m                         Traceback (most recent call last)",
      "\u001b[1;32m/allah/freqtrade/json_dict/ccxt.ipynb Cell 3\u001b[0m line \u001b[0;36m1\n\u001b[0;32m----> <a href='vscode-notebook-cell://ssh-remote%2B7b22686f73744e616d65223a224c696e6f64655f73696e6761706f7265227d/allah/freqtrade/json_dict/ccxt.ipynb#W6sdnNjb2RlLXJlbW90ZQ%3D%3D?line=0'>1</a>\u001b[0m whale_1\u001b[39m.\u001b[39;49mplace_trailing_stop_order(\u001b[39m'\u001b[39;49m\u001b[39mbuy\u001b[39;49m\u001b[39m'\u001b[39;49m)\n",
      "\u001b[1;32m/allah/freqtrade/json_dict/ccxt.ipynb Cell 3\u001b[0m line \u001b[0;36m5\n\u001b[1;32m     <a href='vscode-notebook-cell://ssh-remote%2B7b22686f73744e616d65223a224c696e6f64655f73696e6761706f7265227d/allah/freqtrade/json_dict/ccxt.ipynb#W6sdnNjb2RlLXJlbW90ZQ%3D%3D?line=51'>52</a>\u001b[0m \u001b[39mexcept\u001b[39;00m ccxt\u001b[39m.\u001b[39mBaseError \u001b[39mas\u001b[39;00m e:\n\u001b[1;32m     <a href='vscode-notebook-cell://ssh-remote%2B7b22686f73744e616d65223a224c696e6f64655f73696e6761706f7265227d/allah/freqtrade/json_dict/ccxt.ipynb#W6sdnNjb2RlLXJlbW90ZQ%3D%3D?line=52'>53</a>\u001b[0m     \u001b[39mprint\u001b[39m(\u001b[39mf\u001b[39m\u001b[39m\"\u001b[39m\u001b[39mAn error occurred: \u001b[39m\u001b[39m{\u001b[39;00me\u001b[39m}\u001b[39;00m\u001b[39m\"\u001b[39m)\n\u001b[0;32m---> <a href='vscode-notebook-cell://ssh-remote%2B7b22686f73744e616d65223a224c696e6f64655f73696e6761706f7265227d/allah/freqtrade/json_dict/ccxt.ipynb#W6sdnNjb2RlLXJlbW90ZQ%3D%3D?line=54'>55</a>\u001b[0m \u001b[39mreturn\u001b[39;00m order\n",
      "\u001b[0;31mUnboundLocalError\u001b[0m: cannot access local variable 'order' where it is not associated with a value"
     ]
    }
   ],
   "source": [
    "whale_1.place_trailing_stop_order('buy')"
   ]
  }
 ],
 "metadata": {
  "kernelspec": {
   "display_name": ".venv",
   "language": "python",
   "name": "python3"
  },
  "language_info": {
   "codemirror_mode": {
    "name": "ipython",
    "version": 3
   },
   "file_extension": ".py",
   "mimetype": "text/x-python",
   "name": "python",
   "nbconvert_exporter": "python",
   "pygments_lexer": "ipython3",
   "version": "3.11.2"
  },
  "orig_nbformat": 4
 },
 "nbformat": 4,
 "nbformat_minor": 2
}
