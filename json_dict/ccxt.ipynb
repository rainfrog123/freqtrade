{
 "cells": [
  {
   "cell_type": "code",
   "execution_count": 1,
   "metadata": {},
   "outputs": [
    {
     "name": "stdout",
     "output_type": "stream",
     "text": [
      "Symbol: ETH/USDT:USDT\n",
      "Last Price: 1618.37\n",
      "High Price: 1633.98\n",
      "Low Price: 1582.64\n",
      "Volume: 2558961.274 USDT\n",
      "Timestamp: 1695885451800\n"
     ]
    }
   ],
   "source": [
    "import ccxt\n",
    "\n",
    "# Initialize the Binance Futures exchange\n",
    "exchange = ccxt.binance({\n",
    "    'options': {\n",
    "        'defaultType': 'future',  # Set the default market type to 'future'\n",
    "    },  # Enable rate limiting\n",
    "})\n",
    "\n",
    "# Define the trading pair\n",
    "symbol = 'ETH/USDT'\n",
    "\n",
    "try:\n",
    "    # Fetch ticker data\n",
    "    ticker = exchange.fetch_ticker(symbol)\n",
    "\n",
    "    # Print the ticker data\n",
    "    print(f\"Symbol: {ticker['symbol']}\")\n",
    "    print(f\"Last Price: {ticker['last']}\")\n",
    "    print(f\"High Price: {ticker['high']}\")\n",
    "    print(f\"Low Price: {ticker['low']}\")\n",
    "    print(f\"Volume: {ticker['baseVolume']} {symbol.split('/')[1]}\")\n",
    "    print(f\"Timestamp: {ticker['timestamp']}\")\n",
    "\n",
    "except Exception as e:\n",
    "    print(f\"Error fetching ticker data: {str(e)}\")\n"
   ]
  },
  {
   "cell_type": "code",
   "execution_count": 60,
   "metadata": {},
   "outputs": [
    {
     "name": "stdout",
     "output_type": "stream",
     "text": [
      "time: 2023-09-28 18:01:00, open: 1619.39, high: 1619.52, low: 1619.39, close: 1619.51, volume: 285.866\n",
      "time: 2023-09-28 18:01:00, open: 1619.39, high: 1619.52, low: 1619.39, close: 1619.52, volume: 287.644\n",
      "time: 2023-09-28 18:01:00, open: 1619.39, high: 1619.52, low: 1619.39, close: 1619.51, volume: 293.501\n",
      "time: 2023-09-28 18:01:00, open: 1619.39, high: 1619.52, low: 1619.39, close: 1619.51, volume: 325.838\n",
      "time: 2023-09-28 18:01:00, open: 1619.39, high: 1619.52, low: 1619.39, close: 1619.45, volume: 416.355\n",
      "time: 2023-09-28 18:01:00, open: 1619.39, high: 1619.52, low: 1619.26, close: 1619.27, volume: 449.379\n",
      "time: 2023-09-28 18:01:00, open: 1619.39, high: 1619.52, low: 1619.26, close: 1619.26, volume: 469.49\n",
      "time: 2023-09-28 18:01:00, open: 1619.39, high: 1619.52, low: 1618.87, close: 1618.87, volume: 566.476\n",
      "time: 2023-09-28 18:01:00, open: 1619.39, high: 1619.52, low: 1618.86, close: 1618.87, volume: 572.292\n",
      "time: 2023-09-28 18:01:00, open: 1619.39, high: 1619.52, low: 1618.86, close: 1618.87, volume: 576.319\n",
      "time: 2023-09-28 18:01:00, open: 1619.39, high: 1619.52, low: 1618.86, close: 1619.19, volume: 668.98\n",
      "time: 2023-09-28 18:01:00, open: 1619.39, high: 1619.52, low: 1618.86, close: 1619.3, volume: 673.488\n",
      "time: 2023-09-28 18:01:00, open: 1619.39, high: 1619.52, low: 1618.86, close: 1619.31, volume: 680.135\n",
      "time: 2023-09-28 18:01:00, open: 1619.39, high: 1619.52, low: 1618.86, close: 1619.3, volume: 681.27\n",
      "time: 2023-09-28 18:01:00, open: 1619.39, high: 1619.52, low: 1618.86, close: 1619.3, volume: 683.277\n",
      "time: 2023-09-28 18:01:00, open: 1619.39, high: 1619.52, low: 1618.86, close: 1619.31, volume: 683.291\n",
      "time: 2023-09-28 18:01:00, open: 1619.39, high: 1619.52, low: 1618.86, close: 1619.3, volume: 683.314\n"
     ]
    }
   ],
   "source": [
    "import ccxt.pro as ccxtpro\n",
    "import asyncio\n",
    "import nest_asyncio\n",
    "import pytz\n",
    "from datetime import datetime\n",
    "from binance_api import api_key, api_secret\n",
    "\n",
    "# Use nest_asyncio to allow async/await code to run in Jupyter Notebook\n",
    "nest_asyncio.apply()\n",
    "\n",
    "async def fetch_and_print_ohlcv(exchange, symbol):\n",
    "    utc_plus_8 = pytz.timezone('Asia/Shanghai')\n",
    "\n",
    "    try:\n",
    "        while True:\n",
    "            ohlcv = await exchange.watch_ohlcv(symbol, timeframe='1m')\n",
    "            timestamp_utc = datetime.fromtimestamp(ohlcv[-1][0] / 1000, tz=pytz.utc)\n",
    "            timestamp_utc8 = timestamp_utc.astimezone(utc_plus_8)\n",
    "\n",
    "            print(f\"time: {timestamp_utc8.strftime('%Y-%m-%d %H:%M:%S')}, open: {ohlcv[-1][1]}, high: {ohlcv[-1][2]}, low: {ohlcv[-1][3]}, close: {ohlcv[-1][4]}, volume: {ohlcv[-1][5]}\")\n",
    "\n",
    "            await asyncio.sleep(1)\n",
    "    except KeyboardInterrupt:\n",
    "        pass\n",
    "    finally:\n",
    "        await exchange.close()\n",
    "\n",
    "async def main():\n",
    "    symbol = 'ETH/USDT'\n",
    "    exchange = ccxtpro.binance({\n",
    "        'options': {\n",
    "            'defaultType': 'future',  # Set the default market type to 'future'\n",
    "            'newUpdates': True \n",
    "        }\n",
    "    })\n",
    "\n",
    "    await fetch_and_print_ohlcv(exchange, symbol)\n",
    "\n",
    "# Run the async/await code in a Jupyter Notebook cell\n",
    "asyncio.run(main())\n"
   ]
  }
 ],
 "metadata": {
  "kernelspec": {
   "display_name": ".venv",
   "language": "python",
   "name": "python3"
  },
  "language_info": {
   "codemirror_mode": {
    "name": "ipython",
    "version": 3
   },
   "file_extension": ".py",
   "mimetype": "text/x-python",
   "name": "python",
   "nbconvert_exporter": "python",
   "pygments_lexer": "ipython3",
   "version": "3.11.2"
  },
  "orig_nbformat": 4
 },
 "nbformat": 4,
 "nbformat_minor": 2
}
