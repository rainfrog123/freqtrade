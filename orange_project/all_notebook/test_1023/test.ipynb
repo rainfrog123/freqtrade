{
 "cells": [
  {
   "cell_type": "code",
   "execution_count": 1,
   "metadata": {},
   "outputs": [
    {
     "ename": "TypeError",
     "evalue": "descriptor 'date' for 'datetime.datetime' objects doesn't apply to a 'int' object",
     "output_type": "error",
     "traceback": [
      "\u001b[0;31m---------------------------------------------------------------------------\u001b[0m",
      "\u001b[0;31mTypeError\u001b[0m                                 Traceback (most recent call last)",
      "\u001b[1;32m/allah/freqtrade/Orange_project/all_notebook/test_1023/test.ipynb Cell 1\u001b[0m line \u001b[0;36m1\n\u001b[0;32m----> <a href='vscode-notebook-cell://ssh-remote%2B7b22686f73744e616d65223a224c696e6f64655f73696e6761706f7265227d/allah/freqtrade/Orange_project/all_notebook/test_1023/test.ipynb#W0sdnNjb2RlLXJlbW90ZQ%3D%3D?line=0'>1</a>\u001b[0m \u001b[39mimport\u001b[39;00m \u001b[39mseconds_data_generator\u001b[39;00m \u001b[39mas\u001b[39;00m \u001b[39msdg\u001b[39;00m\n",
      "File \u001b[0;32m/allah/freqtrade/Orange_project/all_notebook/test_1023/seconds_data_generator.py:114\u001b[0m\n\u001b[1;32m    111\u001b[0m feather_stored_dir \u001b[39m=\u001b[39m \u001b[39m'\u001b[39m\u001b[39m/allah/freqtrade/Orange_project/aggTrades/feather_data\u001b[39m\u001b[39m'\u001b[39m\n\u001b[1;32m    113\u001b[0m data_processor \u001b[39m=\u001b[39m DataProcessor(base_url, zip_download_dir, csv_extract_dir, feather_stored_dir)\n\u001b[0;32m--> 114\u001b[0m start_date \u001b[39m=\u001b[39m datetime\u001b[39m.\u001b[39;49mdate(\u001b[39m2023\u001b[39;49m, \u001b[39m1\u001b[39;49m, \u001b[39m1\u001b[39;49m)\n\u001b[1;32m    115\u001b[0m end_date \u001b[39m=\u001b[39m datetime\u001b[39m.\u001b[39mdate(\u001b[39m2023\u001b[39m, \u001b[39m10\u001b[39m, \u001b[39m16\u001b[39m)\n\u001b[1;32m    117\u001b[0m \u001b[39m# Download, extract, and featherize data\u001b[39;00m\n\u001b[1;32m    118\u001b[0m \u001b[39m# data_processor.download_and_extract_and_feather_data(datetime.date(2023, 10, 1), datetime.date(2023, 10, 22))\u001b[39;00m\n\u001b[1;32m    119\u001b[0m \n\u001b[1;32m    120\u001b[0m \u001b[39m# # Combine selected Feather files to a DataFrame\u001b[39;00m\n",
      "\u001b[0;31mTypeError\u001b[0m: descriptor 'date' for 'datetime.datetime' objects doesn't apply to a 'int' object"
     ]
    }
   ],
   "source": [
    "import seconds_data_generator as sdg"
   ]
  },
  {
   "cell_type": "code",
   "execution_count": null,
   "metadata": {},
   "outputs": [],
   "source": []
  }
 ],
 "metadata": {
  "kernelspec": {
   "display_name": ".venv",
   "language": "python",
   "name": "python3"
  },
  "language_info": {
   "codemirror_mode": {
    "name": "ipython",
    "version": 3
   },
   "file_extension": ".py",
   "mimetype": "text/x-python",
   "name": "python",
   "nbconvert_exporter": "python",
   "pygments_lexer": "ipython3",
   "version": "3.11.2"
  }
 },
 "nbformat": 4,
 "nbformat_minor": 2
}
