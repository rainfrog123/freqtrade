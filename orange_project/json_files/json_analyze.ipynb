{
 "cells": [
  {
   "cell_type": "code",
   "execution_count": 1,
   "metadata": {},
   "outputs": [
    {
     "ename": "ValueError",
     "evalue": "NaTType does not support strftime",
     "output_type": "error",
     "traceback": [
      "\u001b[0;31m---------------------------------------------------------------------------\u001b[0m",
      "\u001b[0;31mValueError\u001b[0m                                Traceback (most recent call last)",
      "\u001b[1;32m/allah/freqtrade/orange_project/json_files/json_analyze.ipynb Cell 1\u001b[0m line \u001b[0;36m1\n\u001b[1;32m     <a href='vscode-notebook-cell://ssh-remote%2Blinode_jakarta/allah/freqtrade/orange_project/json_files/json_analyze.ipynb#W0sdnNjb2RlLXJlbW90ZQ%3D%3D?line=15'>16</a>\u001b[0m filtered_df[\u001b[39m'\u001b[39m\u001b[39mprofit_ratio\u001b[39m\u001b[39m'\u001b[39m] \u001b[39m=\u001b[39m (filtered_df[\u001b[39m'\u001b[39m\u001b[39mprofit_ratio\u001b[39m\u001b[39m'\u001b[39m] \u001b[39m*\u001b[39m \u001b[39m100\u001b[39m)\u001b[39m.\u001b[39mmap(\u001b[39m'\u001b[39m\u001b[39m{:.2f}\u001b[39;00m\u001b[39m%\u001b[39m\u001b[39m'\u001b[39m\u001b[39m.\u001b[39mformat)\n\u001b[1;32m     <a href='vscode-notebook-cell://ssh-remote%2Blinode_jakarta/allah/freqtrade/orange_project/json_files/json_analyze.ipynb#W0sdnNjb2RlLXJlbW90ZQ%3D%3D?line=16'>17</a>\u001b[0m \u001b[39m# Perform the datetime conversion and formatting\u001b[39;00m\n\u001b[0;32m---> <a href='vscode-notebook-cell://ssh-remote%2Blinode_jakarta/allah/freqtrade/orange_project/json_files/json_analyze.ipynb#W0sdnNjb2RlLXJlbW90ZQ%3D%3D?line=17'>18</a>\u001b[0m filtered_df[\u001b[39m'\u001b[39m\u001b[39mconverted_date\u001b[39m\u001b[39m'\u001b[39m] \u001b[39m=\u001b[39m filtered_df[\u001b[39m'\u001b[39;49m\u001b[39mreal_1s\u001b[39;49m\u001b[39m'\u001b[39;49m]\u001b[39m.\u001b[39;49mapply(\u001b[39mlambda\u001b[39;49;00m x: x\u001b[39m.\u001b[39;49mtz_localize(\u001b[39m'\u001b[39;49m\u001b[39mUTC\u001b[39;49m\u001b[39m'\u001b[39;49m)\u001b[39m.\u001b[39;49mtz_convert(\u001b[39m'\u001b[39;49m\u001b[39mAsia/Shanghai\u001b[39;49m\u001b[39m'\u001b[39;49m)\u001b[39m.\u001b[39;49mstrftime(\u001b[39m'\u001b[39;49m\u001b[39m%\u001b[39;49m\u001b[39mY-\u001b[39;49m\u001b[39m%\u001b[39;49m\u001b[39mm-\u001b[39;49m\u001b[39m%d\u001b[39;49;00m\u001b[39m \u001b[39;49m\u001b[39m%\u001b[39;49m\u001b[39mH:\u001b[39;49m\u001b[39m%\u001b[39;49m\u001b[39mM\u001b[39;49m\u001b[39m'\u001b[39;49m))\n",
      "File \u001b[0;32m/allah/freqtrade/.venv/lib/python3.11/site-packages/pandas/core/series.py:4760\u001b[0m, in \u001b[0;36mSeries.apply\u001b[0;34m(self, func, convert_dtype, args, by_row, **kwargs)\u001b[0m\n\u001b[1;32m   4625\u001b[0m \u001b[39mdef\u001b[39;00m \u001b[39mapply\u001b[39m(\n\u001b[1;32m   4626\u001b[0m     \u001b[39mself\u001b[39m,\n\u001b[1;32m   4627\u001b[0m     func: AggFuncType,\n\u001b[0;32m   (...)\u001b[0m\n\u001b[1;32m   4632\u001b[0m     \u001b[39m*\u001b[39m\u001b[39m*\u001b[39mkwargs,\n\u001b[1;32m   4633\u001b[0m ) \u001b[39m-\u001b[39m\u001b[39m>\u001b[39m DataFrame \u001b[39m|\u001b[39m Series:\n\u001b[1;32m   4634\u001b[0m \u001b[39m    \u001b[39m\u001b[39m\"\"\"\u001b[39;00m\n\u001b[1;32m   4635\u001b[0m \u001b[39m    Invoke function on values of Series.\u001b[39;00m\n\u001b[1;32m   4636\u001b[0m \n\u001b[0;32m   (...)\u001b[0m\n\u001b[1;32m   4751\u001b[0m \u001b[39m    dtype: float64\u001b[39;00m\n\u001b[1;32m   4752\u001b[0m \u001b[39m    \"\"\"\u001b[39;00m\n\u001b[1;32m   4753\u001b[0m     \u001b[39mreturn\u001b[39;00m SeriesApply(\n\u001b[1;32m   4754\u001b[0m         \u001b[39mself\u001b[39;49m,\n\u001b[1;32m   4755\u001b[0m         func,\n\u001b[1;32m   4756\u001b[0m         convert_dtype\u001b[39m=\u001b[39;49mconvert_dtype,\n\u001b[1;32m   4757\u001b[0m         by_row\u001b[39m=\u001b[39;49mby_row,\n\u001b[1;32m   4758\u001b[0m         args\u001b[39m=\u001b[39;49margs,\n\u001b[1;32m   4759\u001b[0m         kwargs\u001b[39m=\u001b[39;49mkwargs,\n\u001b[0;32m-> 4760\u001b[0m     )\u001b[39m.\u001b[39;49mapply()\n",
      "File \u001b[0;32m/allah/freqtrade/.venv/lib/python3.11/site-packages/pandas/core/apply.py:1207\u001b[0m, in \u001b[0;36mSeriesApply.apply\u001b[0;34m(self)\u001b[0m\n\u001b[1;32m   1204\u001b[0m     \u001b[39mreturn\u001b[39;00m \u001b[39mself\u001b[39m\u001b[39m.\u001b[39mapply_compat()\n\u001b[1;32m   1206\u001b[0m \u001b[39m# self.func is Callable\u001b[39;00m\n\u001b[0;32m-> 1207\u001b[0m \u001b[39mreturn\u001b[39;00m \u001b[39mself\u001b[39;49m\u001b[39m.\u001b[39;49mapply_standard()\n",
      "File \u001b[0;32m/allah/freqtrade/.venv/lib/python3.11/site-packages/pandas/core/apply.py:1287\u001b[0m, in \u001b[0;36mSeriesApply.apply_standard\u001b[0;34m(self)\u001b[0m\n\u001b[1;32m   1281\u001b[0m \u001b[39m# row-wise access\u001b[39;00m\n\u001b[1;32m   1282\u001b[0m \u001b[39m# apply doesn't have a `na_action` keyword and for backward compat reasons\u001b[39;00m\n\u001b[1;32m   1283\u001b[0m \u001b[39m# we need to give `na_action=\"ignore\"` for categorical data.\u001b[39;00m\n\u001b[1;32m   1284\u001b[0m \u001b[39m# TODO: remove the `na_action=\"ignore\"` when that default has been changed in\u001b[39;00m\n\u001b[1;32m   1285\u001b[0m \u001b[39m#  Categorical (GH51645).\u001b[39;00m\n\u001b[1;32m   1286\u001b[0m action \u001b[39m=\u001b[39m \u001b[39m\"\u001b[39m\u001b[39mignore\u001b[39m\u001b[39m\"\u001b[39m \u001b[39mif\u001b[39;00m \u001b[39misinstance\u001b[39m(obj\u001b[39m.\u001b[39mdtype, CategoricalDtype) \u001b[39melse\u001b[39;00m \u001b[39mNone\u001b[39;00m\n\u001b[0;32m-> 1287\u001b[0m mapped \u001b[39m=\u001b[39m obj\u001b[39m.\u001b[39;49m_map_values(\n\u001b[1;32m   1288\u001b[0m     mapper\u001b[39m=\u001b[39;49mcurried, na_action\u001b[39m=\u001b[39;49maction, convert\u001b[39m=\u001b[39;49m\u001b[39mself\u001b[39;49m\u001b[39m.\u001b[39;49mconvert_dtype\n\u001b[1;32m   1289\u001b[0m )\n\u001b[1;32m   1291\u001b[0m \u001b[39mif\u001b[39;00m \u001b[39mlen\u001b[39m(mapped) \u001b[39mand\u001b[39;00m \u001b[39misinstance\u001b[39m(mapped[\u001b[39m0\u001b[39m], ABCSeries):\n\u001b[1;32m   1292\u001b[0m     \u001b[39m# GH#43986 Need to do list(mapped) in order to get treated as nested\u001b[39;00m\n\u001b[1;32m   1293\u001b[0m     \u001b[39m#  See also GH#25959 regarding EA support\u001b[39;00m\n\u001b[1;32m   1294\u001b[0m     \u001b[39mreturn\u001b[39;00m obj\u001b[39m.\u001b[39m_constructor_expanddim(\u001b[39mlist\u001b[39m(mapped), index\u001b[39m=\u001b[39mobj\u001b[39m.\u001b[39mindex)\n",
      "File \u001b[0;32m/allah/freqtrade/.venv/lib/python3.11/site-packages/pandas/core/base.py:919\u001b[0m, in \u001b[0;36mIndexOpsMixin._map_values\u001b[0;34m(self, mapper, na_action, convert)\u001b[0m\n\u001b[1;32m    916\u001b[0m arr \u001b[39m=\u001b[39m \u001b[39mself\u001b[39m\u001b[39m.\u001b[39m_values\n\u001b[1;32m    918\u001b[0m \u001b[39mif\u001b[39;00m \u001b[39misinstance\u001b[39m(arr, ExtensionArray):\n\u001b[0;32m--> 919\u001b[0m     \u001b[39mreturn\u001b[39;00m arr\u001b[39m.\u001b[39;49mmap(mapper, na_action\u001b[39m=\u001b[39;49mna_action)\n\u001b[1;32m    921\u001b[0m \u001b[39mreturn\u001b[39;00m algorithms\u001b[39m.\u001b[39mmap_array(arr, mapper, na_action\u001b[39m=\u001b[39mna_action, convert\u001b[39m=\u001b[39mconvert)\n",
      "File \u001b[0;32m/allah/freqtrade/.venv/lib/python3.11/site-packages/pandas/core/arrays/_mixins.py:80\u001b[0m, in \u001b[0;36mravel_compat.<locals>.method\u001b[0;34m(self, *args, **kwargs)\u001b[0m\n\u001b[1;32m     77\u001b[0m \u001b[39m@wraps\u001b[39m(meth)\n\u001b[1;32m     78\u001b[0m \u001b[39mdef\u001b[39;00m \u001b[39mmethod\u001b[39m(\u001b[39mself\u001b[39m, \u001b[39m*\u001b[39margs, \u001b[39m*\u001b[39m\u001b[39m*\u001b[39mkwargs):\n\u001b[1;32m     79\u001b[0m     \u001b[39mif\u001b[39;00m \u001b[39mself\u001b[39m\u001b[39m.\u001b[39mndim \u001b[39m==\u001b[39m \u001b[39m1\u001b[39m:\n\u001b[0;32m---> 80\u001b[0m         \u001b[39mreturn\u001b[39;00m meth(\u001b[39mself\u001b[39;49m, \u001b[39m*\u001b[39;49margs, \u001b[39m*\u001b[39;49m\u001b[39m*\u001b[39;49mkwargs)\n\u001b[1;32m     82\u001b[0m     flags \u001b[39m=\u001b[39m \u001b[39mself\u001b[39m\u001b[39m.\u001b[39m_ndarray\u001b[39m.\u001b[39mflags\n\u001b[1;32m     83\u001b[0m     flat \u001b[39m=\u001b[39m \u001b[39mself\u001b[39m\u001b[39m.\u001b[39mravel(\u001b[39m\"\u001b[39m\u001b[39mK\u001b[39m\u001b[39m\"\u001b[39m)\n",
      "File \u001b[0;32m/allah/freqtrade/.venv/lib/python3.11/site-packages/pandas/core/arrays/datetimelike.py:723\u001b[0m, in \u001b[0;36mDatetimeLikeArrayMixin.map\u001b[0;34m(self, mapper, na_action)\u001b[0m\n\u001b[1;32m    719\u001b[0m \u001b[39m@ravel_compat\u001b[39m\n\u001b[1;32m    720\u001b[0m \u001b[39mdef\u001b[39;00m \u001b[39mmap\u001b[39m(\u001b[39mself\u001b[39m, mapper, na_action\u001b[39m=\u001b[39m\u001b[39mNone\u001b[39;00m):\n\u001b[1;32m    721\u001b[0m     \u001b[39mfrom\u001b[39;00m \u001b[39mpandas\u001b[39;00m \u001b[39mimport\u001b[39;00m Index\n\u001b[0;32m--> 723\u001b[0m     result \u001b[39m=\u001b[39m map_array(\u001b[39mself\u001b[39;49m, mapper, na_action\u001b[39m=\u001b[39;49mna_action)\n\u001b[1;32m    724\u001b[0m     result \u001b[39m=\u001b[39m Index(result)\n\u001b[1;32m    726\u001b[0m     \u001b[39mif\u001b[39;00m \u001b[39misinstance\u001b[39m(result, ABCMultiIndex):\n",
      "File \u001b[0;32m/allah/freqtrade/.venv/lib/python3.11/site-packages/pandas/core/algorithms.py:1814\u001b[0m, in \u001b[0;36mmap_array\u001b[0;34m(arr, mapper, na_action, convert)\u001b[0m\n\u001b[1;32m   1812\u001b[0m values \u001b[39m=\u001b[39m arr\u001b[39m.\u001b[39mastype(\u001b[39mobject\u001b[39m, copy\u001b[39m=\u001b[39m\u001b[39mFalse\u001b[39;00m)\n\u001b[1;32m   1813\u001b[0m \u001b[39mif\u001b[39;00m na_action \u001b[39mis\u001b[39;00m \u001b[39mNone\u001b[39;00m:\n\u001b[0;32m-> 1814\u001b[0m     \u001b[39mreturn\u001b[39;00m lib\u001b[39m.\u001b[39;49mmap_infer(values, mapper, convert\u001b[39m=\u001b[39;49mconvert)\n\u001b[1;32m   1815\u001b[0m \u001b[39melse\u001b[39;00m:\n\u001b[1;32m   1816\u001b[0m     \u001b[39mreturn\u001b[39;00m lib\u001b[39m.\u001b[39mmap_infer_mask(\n\u001b[1;32m   1817\u001b[0m         values, mapper, mask\u001b[39m=\u001b[39misna(values)\u001b[39m.\u001b[39mview(np\u001b[39m.\u001b[39muint8), convert\u001b[39m=\u001b[39mconvert\n\u001b[1;32m   1818\u001b[0m     )\n",
      "File \u001b[0;32mlib.pyx:2920\u001b[0m, in \u001b[0;36mpandas._libs.lib.map_infer\u001b[0;34m()\u001b[0m\n",
      "\u001b[1;32m/allah/freqtrade/orange_project/json_files/json_analyze.ipynb Cell 1\u001b[0m line \u001b[0;36m1\n\u001b[1;32m     <a href='vscode-notebook-cell://ssh-remote%2Blinode_jakarta/allah/freqtrade/orange_project/json_files/json_analyze.ipynb#W0sdnNjb2RlLXJlbW90ZQ%3D%3D?line=15'>16</a>\u001b[0m filtered_df[\u001b[39m'\u001b[39m\u001b[39mprofit_ratio\u001b[39m\u001b[39m'\u001b[39m] \u001b[39m=\u001b[39m (filtered_df[\u001b[39m'\u001b[39m\u001b[39mprofit_ratio\u001b[39m\u001b[39m'\u001b[39m] \u001b[39m*\u001b[39m \u001b[39m100\u001b[39m)\u001b[39m.\u001b[39mmap(\u001b[39m'\u001b[39m\u001b[39m{:.2f}\u001b[39;00m\u001b[39m%\u001b[39m\u001b[39m'\u001b[39m\u001b[39m.\u001b[39mformat)\n\u001b[1;32m     <a href='vscode-notebook-cell://ssh-remote%2Blinode_jakarta/allah/freqtrade/orange_project/json_files/json_analyze.ipynb#W0sdnNjb2RlLXJlbW90ZQ%3D%3D?line=16'>17</a>\u001b[0m \u001b[39m# Perform the datetime conversion and formatting\u001b[39;00m\n\u001b[0;32m---> <a href='vscode-notebook-cell://ssh-remote%2Blinode_jakarta/allah/freqtrade/orange_project/json_files/json_analyze.ipynb#W0sdnNjb2RlLXJlbW90ZQ%3D%3D?line=17'>18</a>\u001b[0m filtered_df[\u001b[39m'\u001b[39m\u001b[39mconverted_date\u001b[39m\u001b[39m'\u001b[39m] \u001b[39m=\u001b[39m filtered_df[\u001b[39m'\u001b[39m\u001b[39mreal_1s\u001b[39m\u001b[39m'\u001b[39m]\u001b[39m.\u001b[39mapply(\u001b[39mlambda\u001b[39;00m x: x\u001b[39m.\u001b[39;49mtz_localize(\u001b[39m'\u001b[39;49m\u001b[39mUTC\u001b[39;49m\u001b[39m'\u001b[39;49m)\u001b[39m.\u001b[39;49mtz_convert(\u001b[39m'\u001b[39;49m\u001b[39mAsia/Shanghai\u001b[39;49m\u001b[39m'\u001b[39;49m)\u001b[39m.\u001b[39;49mstrftime(\u001b[39m'\u001b[39;49m\u001b[39m%\u001b[39;49m\u001b[39mY-\u001b[39;49m\u001b[39m%\u001b[39;49m\u001b[39mm-\u001b[39;49m\u001b[39m%d\u001b[39;49;00m\u001b[39m \u001b[39;49m\u001b[39m%\u001b[39;49m\u001b[39mH:\u001b[39;49m\u001b[39m%\u001b[39;49m\u001b[39mM\u001b[39;49m\u001b[39m'\u001b[39;49m))\n",
      "File \u001b[0;32mnattype.pyx:58\u001b[0m, in \u001b[0;36mpandas._libs.tslibs.nattype._make_error_func.f\u001b[0;34m()\u001b[0m\n",
      "\u001b[0;31mValueError\u001b[0m: NaTType does not support strftime"
     ]
    }
   ],
   "source": [
    "import pandas as pd\n",
    "import feather\n",
    "\n",
    "# Load JSON and Feather data\n",
    "df = pd.read_json('/allah/freqtrade/Orange_project/json_files/trades.json')\n",
    "df_feather = feather.read_dataframe('/allah/freqtrade/user_data/strategies/real_1s.feather')\n",
    "\n",
    "# Convert the 'open_date' column to datetime\n",
    "df['open_date'] = pd.to_datetime(df['open_date'], unit='ms')\n",
    "\n",
    "# Filter the DataFrame and reset the index\n",
    "filtered_df = df_feather[df_feather['date'].isin(df['open_date'].to_list())].reset_index(drop=True)\n",
    "\n",
    "# Set values in the filtered DataFrame\n",
    "filtered_df['profit_ratio'] = df['profit_ratio']\n",
    "filtered_df['profit_ratio'] = (filtered_df['profit_ratio'] * 100).map('{:.2f}%'.format)\n",
    "# Perform the datetime conversion and formatting\n",
    "filtered_df['converted_date'] = filtered_df['real_1s'].apply(lambda x: x.tz_localize('UTC').tz_convert('Asia/Shanghai').strftime('%Y-%m-%d %H:%M'))\n"
   ]
  },
  {
   "cell_type": "code",
   "execution_count": 30,
   "metadata": {},
   "outputs": [],
   "source": [
    "import pandas as pd\n",
    "df = pd.read_json('/allah/freqtrade/orange_project/json_files/trades.json')\n",
    "# df['open_date'] = pd.to_datetime(df['open_date'], unit='ms')\n",
    "df_date = df.loc[:, ['open_date', 'close_date', 'profit_ratio']]\n",
    "\n"
   ]
  },
  {
   "cell_type": "code",
   "execution_count": 31,
   "metadata": {},
   "outputs": [],
   "source": [
    "df_date['open_date'] = pd.to_datetime(df_date['open_date'], unit='ms') \n",
    "df_date['close_date'] = pd.to_datetime(df_date['close_date'], unit='ms') \n",
    "df_date['profit_ratio'] = df_date['profit_ratio'] * 100\n"
   ]
  },
  {
   "cell_type": "code",
   "execution_count": 32,
   "metadata": {},
   "outputs": [
    {
     "data": {
      "text/html": [
       "<div>\n",
       "<style scoped>\n",
       "    .dataframe tbody tr th:only-of-type {\n",
       "        vertical-align: middle;\n",
       "    }\n",
       "\n",
       "    .dataframe tbody tr th {\n",
       "        vertical-align: top;\n",
       "    }\n",
       "\n",
       "    .dataframe thead th {\n",
       "        text-align: right;\n",
       "    }\n",
       "</style>\n",
       "<table border=\"1\" class=\"dataframe\">\n",
       "  <thead>\n",
       "    <tr style=\"text-align: right;\">\n",
       "      <th></th>\n",
       "      <th>open_date</th>\n",
       "      <th>close_date</th>\n",
       "      <th>profit_ratio</th>\n",
       "    </tr>\n",
       "  </thead>\n",
       "  <tbody>\n",
       "    <tr>\n",
       "      <th>0</th>\n",
       "      <td>2023-11-11 03:03:00</td>\n",
       "      <td>2023-11-11 03:17:00</td>\n",
       "      <td>-0.327607</td>\n",
       "    </tr>\n",
       "    <tr>\n",
       "      <th>1</th>\n",
       "      <td>2023-11-11 03:35:00</td>\n",
       "      <td>2023-11-11 04:34:00</td>\n",
       "      <td>0.187587</td>\n",
       "    </tr>\n",
       "    <tr>\n",
       "      <th>2</th>\n",
       "      <td>2023-11-11 05:44:00</td>\n",
       "      <td>2023-11-11 06:42:00</td>\n",
       "      <td>-0.255170</td>\n",
       "    </tr>\n",
       "    <tr>\n",
       "      <th>3</th>\n",
       "      <td>2023-11-11 06:26:00</td>\n",
       "      <td>2023-11-11 07:49:00</td>\n",
       "      <td>-0.039019</td>\n",
       "    </tr>\n",
       "    <tr>\n",
       "      <th>4</th>\n",
       "      <td>2023-11-11 06:51:00</td>\n",
       "      <td>2023-11-11 09:19:00</td>\n",
       "      <td>0.098284</td>\n",
       "    </tr>\n",
       "    <tr>\n",
       "      <th>...</th>\n",
       "      <td>...</td>\n",
       "      <td>...</td>\n",
       "      <td>...</td>\n",
       "    </tr>\n",
       "    <tr>\n",
       "      <th>72</th>\n",
       "      <td>2023-11-14 19:51:00</td>\n",
       "      <td>2023-11-14 20:01:00</td>\n",
       "      <td>-0.361597</td>\n",
       "    </tr>\n",
       "    <tr>\n",
       "      <th>73</th>\n",
       "      <td>2023-11-14 21:19:00</td>\n",
       "      <td>2023-11-14 21:20:00</td>\n",
       "      <td>-0.400001</td>\n",
       "    </tr>\n",
       "    <tr>\n",
       "      <th>74</th>\n",
       "      <td>2023-11-14 20:26:00</td>\n",
       "      <td>2023-11-14 21:33:00</td>\n",
       "      <td>0.603562</td>\n",
       "    </tr>\n",
       "    <tr>\n",
       "      <th>75</th>\n",
       "      <td>2023-11-14 22:14:00</td>\n",
       "      <td>2023-11-14 22:44:00</td>\n",
       "      <td>-0.223560</td>\n",
       "    </tr>\n",
       "    <tr>\n",
       "      <th>76</th>\n",
       "      <td>2023-11-14 22:40:00</td>\n",
       "      <td>2023-11-14 22:44:00</td>\n",
       "      <td>0.176740</td>\n",
       "    </tr>\n",
       "  </tbody>\n",
       "</table>\n",
       "<p>77 rows × 3 columns</p>\n",
       "</div>"
      ],
      "text/plain": [
       "             open_date          close_date  profit_ratio\n",
       "0  2023-11-11 03:03:00 2023-11-11 03:17:00     -0.327607\n",
       "1  2023-11-11 03:35:00 2023-11-11 04:34:00      0.187587\n",
       "2  2023-11-11 05:44:00 2023-11-11 06:42:00     -0.255170\n",
       "3  2023-11-11 06:26:00 2023-11-11 07:49:00     -0.039019\n",
       "4  2023-11-11 06:51:00 2023-11-11 09:19:00      0.098284\n",
       "..                 ...                 ...           ...\n",
       "72 2023-11-14 19:51:00 2023-11-14 20:01:00     -0.361597\n",
       "73 2023-11-14 21:19:00 2023-11-14 21:20:00     -0.400001\n",
       "74 2023-11-14 20:26:00 2023-11-14 21:33:00      0.603562\n",
       "75 2023-11-14 22:14:00 2023-11-14 22:44:00     -0.223560\n",
       "76 2023-11-14 22:40:00 2023-11-14 22:44:00      0.176740\n",
       "\n",
       "[77 rows x 3 columns]"
      ]
     },
     "execution_count": 32,
     "metadata": {},
     "output_type": "execute_result"
    }
   ],
   "source": [
    "df_date"
   ]
  }
 ],
 "metadata": {
  "kernelspec": {
   "display_name": ".venv",
   "language": "python",
   "name": "python3"
  },
  "language_info": {
   "codemirror_mode": {
    "name": "ipython",
    "version": 3
   },
   "file_extension": ".py",
   "mimetype": "text/x-python",
   "name": "python",
   "nbconvert_exporter": "python",
   "pygments_lexer": "ipython3",
   "version": "3.11.2"
  }
 },
 "nbformat": 4,
 "nbformat_minor": 2
}
